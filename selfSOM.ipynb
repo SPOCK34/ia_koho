{
 "cells": [
  {
   "cell_type": "code",
   "execution_count": 80,
   "metadata": {},
   "outputs": [],
   "source": [
    "import numpy as np"
   ]
  },
  {
   "cell_type": "code",
   "execution_count": 98,
   "metadata": {},
   "outputs": [],
   "source": [
    "class SOM(object):\n",
    "    \n",
    "    def __init__(self, x, y, v_dim, i_aprendizaje, radio, epocas, datos):\n",
    "            \n",
    "            \n",
    "        #Inisializando Propiedades\n",
    "        self._x = x\n",
    "        self._y = y\n",
    "        self.i_aprendizaje = float(i_aprendizaje)\n",
    "        self._radio = float(radio)\n",
    "        self._epocas = epocas\n",
    "       \n",
    "        \n",
    "        \n",
    "        \n",
    "        def _iterador(x,y):\n",
    "                for i in range(x):\n",
    "                    for j in range(y):\n",
    "                        yield np.array([i, j])\n",
    "        index_map =np.array(list(_iterador(x, y)))     \n",
    "                \n",
    "        m_pesos = np.random.random((x*y,v_dim))\n",
    "        for epoca_actual in range(self._epocas):\n",
    "            #print(m_pesos)\n",
    "            for v_entrada in datos:\n",
    "                m_entrada=np.stack([v_entrada for i in range(x*y)])\n",
    "                #print(m_entrada)\n",
    "                raiz_distancias=np.sum(np.power(np.subtract(m_pesos, m_entrada),2),1)\n",
    "                #print(raiz_distancias)\n",
    "                bmu = np.argmin(raiz_distancias, 0)\n",
    "                #print(bmu)\n",
    "                bmu_loc=np.reshape(index_map[bmu],2)\n",
    "                #print(bmu_loc)\n",
    "                decay_function = np.subtract(1.0, np.divide(epoca_actual, self._epocas))\n",
    "                #print(decay_function)\n",
    "                aprendizaje_actual = np.multiply(i_aprendizaje, decay_function)\n",
    "                #print(aprendizaje_actual)\n",
    "                radio_actual = np.multiply(radio, decay_function)\n",
    "                bmu_matriz = np.stack([bmu_loc for i in range(x*y)])\n",
    "                #print(bmu_matriz)\n",
    "                bmu_distance = np.sum(np.power(np.subtract(index_map, bmu_matriz), 2), 1)\n",
    "                #print(bmu_distance)\n",
    "                func_vecindad =np.exp(np.negative(np.divide(np.array(bmu_distance, dtype= np.float32), np.array(np.power(radio,2),dtype = np.float32))))\n",
    "                #print(func_vecindad)\n",
    "                matriz_aprendizaje = np.multiply(aprendizaje_actual, func_vecindad)\n",
    "                #print(matriz_aprendizaje)\n",
    "                multiplicador=np.stack([np.tile(matriz_aprendizaje[i],v_dim)for i in range(x*y)])\n",
    "                delta = np.multiply(multiplicador,np.subtract(np.stack([v_entrada for i in range(x*y)]), m_pesos))   \n",
    "                #print (delta)\n",
    "                new_pesos = np.add(m_pesos, delta)\n",
    "                m_pesos= new_pesos\n",
    "                #print(m_pesos)\n",
    "                if (epoca_actual== epocas-1):\n",
    "                    print(\"-------\")\n",
    "                    print(\"El vector \",v_entrada,\" esta clasificado en el grupo: \",bmu_loc[0])\n",
    "                    #print(bmu_loc)\n",
    "                \n",
    "                \n",
    "        centroid_matrix = [[] for i in range(x)]\n",
    "        for i, loc in enumerate(index_map):\n",
    "            centroid_matrix[loc[0]].append(new_pesos[i])\n",
    "        print(centroid_matrix)\n",
    "                \n",
    "                \n",
    "    "
   ]
  },
  {
   "cell_type": "code",
   "execution_count": 99,
   "metadata": {},
   "outputs": [],
   "source": [
    "datos = [[2, 3, 1, 1, 3, 3, 3, 3], \n",
    "         [3, 2, 1, 0, 3, 3, 3, 3], \n",
    "         [2, 3, 1, 1, 2, 3, 3, 3],\n",
    "         [2, 3, 1, 1, 2, 2, 3, 3],\n",
    "         [2, 3, 1, 1, 1, 2, 3, 3],\n",
    "         [1, 3, 1, 1, 2, 2, 3, 3], \n",
    "         [2, 1, 0, 0, 2, 2, 3, 3],\n",
    "         [2, 1, 0, 0, 3, 2, 3, 3], \n",
    "         [1, 1, 0, 0, 2, 1, 3, 3], \n",
    "         [1, 1, 0, 0, 2, 1, 3, 3], \n",
    "         [1, 1, 0, 0, 1, 1, 3, 3],\n",
    "         [1, 1, 0, 0, 0, 0, 3, 3], \n",
    "         [1, 1, 0, 0, 1, 1, 3, 3], \n",
    "         [3, 3, 1, 1, 4, 4, 2, 3], \n",
    "         [3, 3, 1, 1, 4, 4, 2, 3], \n",
    "         [3, 3, 1, 1, 4, 4, 3, 2], \n",
    "         [3, 3, 1, 1, 4, 4, 1, 2], \n",
    "         [3, 3, 1, 1, 3, 3, 1, 2], \n",
    "         [3, 3, 1, 1, 4, 4, 1, 2], \n",
    "         [3, 3, 1, 1, 3, 3, 1, 2], \n",
    "         [3, 3, 1, 1, 4, 3, 1, 2], \n",
    "         [3, 2, 1, 1, 3, 3, 1, 2], \n",
    "         [3, 3, 1, 1, 3, 2, 1, 1], \n",
    "         [3, 3, 1, 1, 3, 2, 1, 1], \n",
    "         [3, 2, 1, 1, 3, 4, 1, 1], \n",
    "         [3, 2, 1, 1, 3, 4, 1, 1], \n",
    "         [3, 2, 1, 1, 3, 3, 2, 2], \n",
    "         [2, 1, 1, 1, 4, 4, 1, 1], \n",
    "         [0, 4, 1, 0, 3, 3, 3, 3], \n",
    "         [0, 4, 1, 0, 3, 3, 3, 3], \n",
    "         [0, 4, 0, 0, 3, 3, 3, 3], \n",
    "         [0, 4, 0, 0, 3, 3, 3, 3]]"
   ]
  },
  {
   "cell_type": "code",
   "execution_count": null,
   "metadata": {},
   "outputs": [],
   "source": [
    "som = SOM(3, 3,8, 0.5,  1.0, 10000, datos)\n"
   ]
  },
  {
   "cell_type": "markdown",
   "metadata": {},
   "source": [
    "###    inicializando los pesos"
   ]
  },
  {
   "cell_type": "code",
   "execution_count": 84,
   "metadata": {
    "scrolled": true
   },
   "outputs": [
    {
     "name": "stdout",
     "output_type": "stream",
     "text": [
      "[[0.53384905 0.34646196 0.14716041 0.35167936 0.02380812 0.27209299\n",
      "  0.33745381 0.19215098]\n",
      " [0.17653071 0.12777728 0.83045796 0.53353871 0.62779297 0.92668098\n",
      "  0.65337515 0.19644732]\n",
      " [0.60634112 0.04682599 0.89646228 0.3901364  0.43222026 0.27138375\n",
      "  0.46387421 0.6770201 ]\n",
      " [0.75074937 0.60715478 0.13164687 0.23399198 0.48883081 0.46192825\n",
      "  0.91764796 0.79473461]\n",
      " [0.06215775 0.32753723 0.29968338 0.4965851  0.37321442 0.0879877\n",
      "  0.04388989 0.90725875]\n",
      " [0.91582115 0.14148921 0.95593326 0.10000859 0.03508225 0.81220456\n",
      "  0.23722759 0.91272963]\n",
      " [0.76615889 0.43108273 0.03887933 0.03803193 0.32780303 0.69313128\n",
      "  0.5917075  0.32774192]\n",
      " [0.94702804 0.16798928 0.04418068 0.6925326  0.12610928 0.68495976\n",
      "  0.96383168 0.57446027]\n",
      " [0.76340251 0.40403097 0.63754519 0.59646257 0.30527316 0.99134638\n",
      "  0.76117345 0.9412846 ]]\n",
      "[[0 0]\n",
      " [0 1]\n",
      " [0 2]\n",
      " [1 0]\n",
      " [1 1]\n",
      " [1 2]\n",
      " [2 0]\n",
      " [2 1]\n",
      " [2 2]]\n",
      "[[2 3 1 1 3 3 3 3]\n",
      " [2 3 1 1 3 3 3 3]\n",
      " [2 3 1 1 3 3 3 3]\n",
      " [2 3 1 1 3 3 3 3]\n",
      " [2 3 1 1 3 3 3 3]\n",
      " [2 3 1 1 3 3 3 3]\n",
      " [2 3 1 1 3 3 3 3]\n",
      " [2 3 1 1 3 3 3 3]\n",
      " [2 3 1 1 3 3 3 3]]\n",
      "[0 0]\n"
     ]
    }
   ],
   "source": [
    "x=3\n",
    "y=3\n",
    "v_entrada = [2, 3, 1, 1, 3, 3, 3, 3]\n",
    "i_aprendizaje = 0.5\n",
    "epoca_actual = 15\n",
    "epocas = 100\n",
    "radio_actual = 0.5\n",
    "radio = 1\n",
    "v_dim=8\n",
    "#-------\n",
    "m_pesos = np.random.random((x*y,v_dim))\n",
    "print (m_pesos)\n",
    "#creando el mapa de indices \n",
    "index_map =np.array(list(iterador(x, y)))\n",
    "\n",
    "def iterador(x,y):\n",
    "        for i in range(x):\n",
    "            for j in range(y):\n",
    "                yield np.array([i, j])\n",
    "\n",
    "print (index_map)\n",
    "\n",
    "#matriz de entrada\n",
    "m_entrada=np.stack([v_entrada for i in range(x*y)])\n",
    "print (m_entrada)\n",
    "bmu_loc=np.reshape(index_map[bmu],2)\n",
    "print(bmu_loc)\n",
    "\n"
   ]
  },
  {
   "cell_type": "markdown",
   "metadata": {},
   "source": [
    "### Calcular distancias"
   ]
  },
  {
   "cell_type": "code",
   "execution_count": 85,
   "metadata": {},
   "outputs": [
    {
     "name": "stdout",
     "output_type": "stream",
     "text": [
      "[41.6108809  35.11360803 36.91318458 30.57430514 40.13913083 35.72524929\n",
      " 35.3739513  33.785045   29.10934006]\n"
     ]
    }
   ],
   "source": [
    "raiz_distancias=np.sum(np.power(np.subtract(m_pesos, m_entrada),2),1)\n",
    "print(raiz_distancias)\n"
   ]
  },
  {
   "cell_type": "markdown",
   "metadata": {},
   "source": [
    "###  indice de la neurona ganadora"
   ]
  },
  {
   "cell_type": "code",
   "execution_count": 86,
   "metadata": {},
   "outputs": [
    {
     "name": "stdout",
     "output_type": "stream",
     "text": [
      "[2 2]\n"
     ]
    }
   ],
   "source": [
    "bmu = np.argmin(raiz_distancias, 0)\n",
    "#print (bmu)\n",
    "#mask = np.pad(np.reshape(bmu, 1), np.array([[0, 1]]),'constant')\n",
    "bmu_loc=np.reshape(index_map[bmu],2)\n",
    "print(bmu_loc)"
   ]
  },
  {
   "cell_type": "markdown",
   "metadata": {},
   "source": [
    "###  Calculate learning rate and radius"
   ]
  },
  {
   "cell_type": "code",
   "execution_count": 87,
   "metadata": {},
   "outputs": [
    {
     "name": "stdout",
     "output_type": "stream",
     "text": [
      "0.425\n"
     ]
    }
   ],
   "source": [
    "\n",
    "decay_function = np.subtract(1.0, np.divide(epoca_actual, epocas))\n",
    "#print(decay_function)\n",
    "aprendizaje_actual = np.multiply(i_aprendizaje, decay_function)\n",
    "print(aprendizaje_actual)\n",
    "radio_actual = np.multiply(radio, decay_function)"
   ]
  },
  {
   "cell_type": "markdown",
   "metadata": {},
   "source": [
    "###   Adaptar la velocidad de aprendizaje a cada neurona según la posición."
   ]
  },
  {
   "cell_type": "code",
   "execution_count": 88,
   "metadata": {},
   "outputs": [
    {
     "name": "stdout",
     "output_type": "stream",
     "text": [
      "[[2 2]\n",
      " [2 2]\n",
      " [2 2]\n",
      " [2 2]\n",
      " [2 2]\n",
      " [2 2]\n",
      " [2 2]\n",
      " [2 2]\n",
      " [2 2]]\n"
     ]
    }
   ],
   "source": [
    "bmu_matriz = np.stack([bmu_loc for i in range(x*y)])\n",
    "print(bmu_matriz)"
   ]
  },
  {
   "cell_type": "markdown",
   "metadata": {},
   "source": [
    "### distancia de de la neurona ganadora hacia  la vecindad"
   ]
  },
  {
   "cell_type": "code",
   "execution_count": 89,
   "metadata": {},
   "outputs": [
    {
     "name": "stdout",
     "output_type": "stream",
     "text": [
      "[8 5 4 5 2 1 4 1 0]\n",
      "[3.3546262e-04 6.7379470e-03 1.8315639e-02 6.7379470e-03 1.3533528e-01\n",
      " 3.6787945e-01 1.8315639e-02 3.6787945e-01 1.0000000e+00]\n"
     ]
    }
   ],
   "source": [
    "bmu_distance = np.sum(np.power(np.subtract(index_map, bmu_matriz), 2), 1)\n",
    "print(bmu_distance)\n",
    "\n",
    "func_vecindad =np.exp(np.negative(np.divide(np.array(bmu_distance, dtype= np.float32), np.array(np.power(radio,2),dtype = np.float32))))\n",
    "print(func_vecindad)\n"
   ]
  },
  {
   "cell_type": "markdown",
   "metadata": {},
   "source": [
    "### Matriz de aprendizaje"
   ]
  },
  {
   "cell_type": "code",
   "execution_count": 90,
   "metadata": {},
   "outputs": [
    {
     "name": "stdout",
     "output_type": "stream",
     "text": [
      "[1.4257162e-04 2.8636276e-03 7.7841468e-03 2.8636276e-03 5.7517495e-02\n",
      " 1.5634876e-01 7.7841468e-03 1.5634876e-01 4.2500001e-01]\n"
     ]
    }
   ],
   "source": [
    "matriz_aprendizaje = np.multiply(aprendizaje_actual, func_vecindad)\n",
    "print (matriz_aprendizaje)\n",
    " "
   ]
  },
  {
   "cell_type": "markdown",
   "metadata": {},
   "source": [
    "### Actualizacion de pesos"
   ]
  },
  {
   "cell_type": "code",
   "execution_count": 93,
   "metadata": {},
   "outputs": [
    {
     "name": "stdout",
     "output_type": "stream",
     "text": [
      "[[1.4257162e-04 1.4257162e-04 1.4257162e-04 1.4257162e-04 1.4257162e-04\n",
      "  1.4257162e-04 1.4257162e-04 1.4257162e-04]\n",
      " [2.8636276e-03 2.8636276e-03 2.8636276e-03 2.8636276e-03 2.8636276e-03\n",
      "  2.8636276e-03 2.8636276e-03 2.8636276e-03]\n",
      " [7.7841468e-03 7.7841468e-03 7.7841468e-03 7.7841468e-03 7.7841468e-03\n",
      "  7.7841468e-03 7.7841468e-03 7.7841468e-03]\n",
      " [2.8636276e-03 2.8636276e-03 2.8636276e-03 2.8636276e-03 2.8636276e-03\n",
      "  2.8636276e-03 2.8636276e-03 2.8636276e-03]\n",
      " [5.7517495e-02 5.7517495e-02 5.7517495e-02 5.7517495e-02 5.7517495e-02\n",
      "  5.7517495e-02 5.7517495e-02 5.7517495e-02]\n",
      " [1.5634876e-01 1.5634876e-01 1.5634876e-01 1.5634876e-01 1.5634876e-01\n",
      "  1.5634876e-01 1.5634876e-01 1.5634876e-01]\n",
      " [7.7841468e-03 7.7841468e-03 7.7841468e-03 7.7841468e-03 7.7841468e-03\n",
      "  7.7841468e-03 7.7841468e-03 7.7841468e-03]\n",
      " [1.5634876e-01 1.5634876e-01 1.5634876e-01 1.5634876e-01 1.5634876e-01\n",
      "  1.5634876e-01 1.5634876e-01 1.5634876e-01]\n",
      " [4.2500001e-01 4.2500001e-01 4.2500001e-01 4.2500001e-01 4.2500001e-01\n",
      "  4.2500001e-01 4.2500001e-01 4.2500001e-01]]\n"
     ]
    }
   ],
   "source": [
    "multiplicador=np.stack([np.tile(matriz_aprendizaje[i],v_dim)for i in range(x*y)])\n",
    "print (multiplicador)"
   ]
  },
  {
   "cell_type": "code",
   "execution_count": 94,
   "metadata": {},
   "outputs": [
    {
     "name": "stdout",
     "output_type": "stream",
     "text": [
      "[[2.09031514e-04 3.78319212e-04 1.21590720e-04 9.24321230e-05\n",
      "  4.24320492e-04 3.88922117e-04 3.79603519e-04 4.00319579e-04]\n",
      " [5.22173703e-03 8.22497634e-03 4.85505269e-04 1.33577143e-03\n",
      "  6.79311760e-03 5.93721363e-03 6.71985974e-03 8.02833090e-03]\n",
      " [1.08484453e-02 2.29879401e-02 8.05952847e-04 4.74726781e-03\n",
      "  1.99879745e-02 2.12399495e-02 1.97415755e-02 1.80824166e-02]\n",
      " [3.57738860e-03 6.85221767e-03 2.48664001e-03 2.19356173e-03\n",
      "  7.19105347e-03 7.26809237e-03 5.96308082e-03 6.31505888e-03]\n",
      " [1.11459832e-01 1.53713364e-01 4.02804574e-02 2.89551643e-02\n",
      "  1.51086126e-01 1.67491653e-01 1.70028049e-01 1.20369234e-01]\n",
      " [1.69510025e-01 4.46924632e-01 6.88978081e-03 1.40712545e-01\n",
      "  4.63561228e-01 3.42059114e-01 4.31956054e-01 3.26342144e-01]\n",
      " [9.60440031e-03 1.99968292e-02 7.48150437e-03 7.48810068e-03\n",
      "  2.08007735e-02 1.79570048e-02 1.87465024e-02 2.08012492e-02]\n",
      " [1.64630865e-01 4.42781378e-01 1.49441170e-01 4.80721485e-02\n",
      "  4.49329265e-01 3.61953682e-01 3.18352402e-01 3.79230141e-01]\n",
      " [5.25553947e-01 1.10328687e+00 1.54043297e-01 1.71503411e-01\n",
      "  1.14525894e+00 8.53677813e-01 9.51501310e-01 8.74954071e-01]]\n"
     ]
    }
   ],
   "source": [
    "delta = np.multiply(multiplicador,np.subtract(np.stack([v_entrada for i in range(x*y)]), m_pesos))   \n",
    "print (delta)"
   ]
  },
  {
   "cell_type": "code",
   "execution_count": 95,
   "metadata": {},
   "outputs": [
    {
     "name": "stdout",
     "output_type": "stream",
     "text": [
      "[[0.53405808 0.34684028 0.147282   0.35177179 0.02423244 0.27248191\n",
      "  0.33783341 0.1925513 ]\n",
      " [0.18175245 0.13600225 0.83094347 0.53487449 0.63458608 0.93261819\n",
      "  0.66009501 0.20447565]\n",
      " [0.61718956 0.06981393 0.89726823 0.39488367 0.45220824 0.2926237\n",
      "  0.48361578 0.69510252]\n",
      " [0.75432676 0.614007   0.13413351 0.23618554 0.49602186 0.46919634\n",
      "  0.92361104 0.80104967]\n",
      " [0.17361758 0.48125059 0.33996384 0.52554026 0.52430055 0.25547935\n",
      "  0.21391794 1.02762799]\n",
      " [1.08533117 0.58841384 0.96282304 0.24072114 0.49864348 1.15426368\n",
      "  0.66918364 1.23907178]\n",
      " [0.77576329 0.45107956 0.04636084 0.04552003 0.3486038  0.71108829\n",
      "  0.610454   0.34854317]\n",
      " [1.11165891 0.61077066 0.19362185 0.74060475 0.57543854 1.04691344\n",
      "  1.28218408 0.95369041]\n",
      " [1.28895646 1.50731784 0.79158849 0.76796598 1.4505321  1.84502419\n",
      "  1.71267476 1.81623867]]\n",
      "---------------------------------------------------\n",
      "[[0.53405808 0.34684028 0.147282   0.35177179 0.02423244 0.27248191\n",
      "  0.33783341 0.1925513 ]\n",
      " [0.18175245 0.13600225 0.83094347 0.53487449 0.63458608 0.93261819\n",
      "  0.66009501 0.20447565]\n",
      " [0.61718956 0.06981393 0.89726823 0.39488367 0.45220824 0.2926237\n",
      "  0.48361578 0.69510252]\n",
      " [0.75432676 0.614007   0.13413351 0.23618554 0.49602186 0.46919634\n",
      "  0.92361104 0.80104967]\n",
      " [0.17361758 0.48125059 0.33996384 0.52554026 0.52430055 0.25547935\n",
      "  0.21391794 1.02762799]\n",
      " [1.08533117 0.58841384 0.96282304 0.24072114 0.49864348 1.15426368\n",
      "  0.66918364 1.23907178]\n",
      " [0.77576329 0.45107956 0.04636084 0.04552003 0.3486038  0.71108829\n",
      "  0.610454   0.34854317]\n",
      " [1.11165891 0.61077066 0.19362185 0.74060475 0.57543854 1.04691344\n",
      "  1.28218408 0.95369041]\n",
      " [1.28895646 1.50731784 0.79158849 0.76796598 1.4505321  1.84502419\n",
      "  1.71267476 1.81623867]]\n"
     ]
    }
   ],
   "source": [
    "new_pesos = np.add(m_pesos, delta)\n",
    "print(new_pesos)\n",
    "print(\"---------------------------------------------------\")\n",
    "m_pesos= new_pesos\n",
    "print(m_pesos)"
   ]
  },
  {
   "cell_type": "code",
   "execution_count": 96,
   "metadata": {},
   "outputs": [],
   "source": [
    "centroid_matrix = [[] for i in range(x)]\n",
    "#print(centroid_matrix)\n",
    "for i, loc in enumerate(index_map):\n",
    "            centroid_matrix[loc[0]].append(new_pesos[i])\n",
    "            #print(centroid_matrix)"
   ]
  }
 ],
 "metadata": {
  "kernelspec": {
   "display_name": "Python 3",
   "language": "python",
   "name": "python3"
  },
  "language_info": {
   "codemirror_mode": {
    "name": "ipython",
    "version": 3
   },
   "file_extension": ".py",
   "mimetype": "text/x-python",
   "name": "python",
   "nbconvert_exporter": "python",
   "pygments_lexer": "ipython3",
   "version": "3.7.3"
  }
 },
 "nbformat": 4,
 "nbformat_minor": 2
}
