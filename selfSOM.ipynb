{
 "cells": [
  {
   "cell_type": "code",
   "execution_count": 310,
   "metadata": {},
   "outputs": [],
   "source": [
    "import numpy as np"
   ]
  },
  {
   "cell_type": "code",
   "execution_count": 637,
   "metadata": {},
   "outputs": [],
   "source": [
    "class SOM(object):\n",
    "    \n",
    "    def __init__(self, x, y, v_dim, i_aprendizaje, radio, epocas):\n",
    "            \n",
    "            \n",
    "        #Inisializando Propiedades\n",
    "        self._x = x\n",
    "        self._y = y\n",
    "        self.i_aprendizaje = float(i_aprendizaje)\n",
    "        self._radio = float(radio)\n",
    "        self._epocas = epocas\n",
    "       \n",
    "        \n",
    "        for i in range(x):\n",
    "            for j in range(y):\n",
    "                self._iterador = np.array([i, j])\n",
    "                \n",
    "        \n",
    "                \n",
    "         \n",
    "    def entrenar(self,datos):\n",
    "        index_map =np.array(list(self._iterador))\n",
    "        m_pesos = np.random.random((x*y,v_dim))\n",
    "        for epoca_actual in range(self._epocas):\n",
    "            #print(m_pesos)\n",
    "            print (index_map)\n",
    "            for v_entrada in datos:\n",
    "                m_entrada=np.stack([v_entrada for i in range(x*y)])\n",
    "                #print(m_entrada)\n",
    "                raiz_distancias=np.sum(np.power(np.subtract(m_pesos, m_entrada),2),1)\n",
    "                #print(raiz_distancias)\n",
    "                bmu = np.argmin(raiz_distancias, 0)\n",
    "                #print(bmu)\n",
    "                bmu_loc=np.reshape(index_map[bmu],2)\n",
    "                #print(bmu_loc)\n",
    "                decay_function = np.subtract(1.0, np.divide(epoca_actual, self._epocas))\n",
    "                #print(decay_function)\n",
    "                aprendizaje_actual = np.multiply(i_aprendizaje, decay_function)\n",
    "                #print(aprendizaje_actual)\n",
    "                radio_actual = np.multiply(radio, decay_function)\n",
    "                bmu_matriz = np.stack([bmu_loc for i in range(x*y)])\n",
    "                #print(bmu_matriz)\n",
    "                bmu_distance = np.sum(np.power(np.subtract(index_map, bmu_matriz), 2), 1)\n",
    "                #print(bmu_distance)\n",
    "                func_vecindad =np.exp(np.negative(np.divide(np.array(bmu_distance, dtype= np.float32), np.array(np.power(radio,2),dtype = np.float32))))\n",
    "                #print(func_vecindad)\n",
    "                matriz_aprendizaje = np.multiply(aprendizaje_actual, func_vecindad)\n",
    "                #print(matriz_aprendizaje)\n",
    "                multiplicador=np.stack([np.tile(matriz_aprendizaje[j],v_dim)for i in range(x*y)])\n",
    "                delta = np.multiply(multiplicador,np.subtract(np.stack([v_entrada for i in range(x*y)]), m_pesos))   \n",
    "                #print (delta)\n",
    "                new_pesos = np.add(m_pesos, delta)\n",
    "                m_pesos= new_pesos\n",
    "                #print(m_pesos)\n",
    "                \n",
    "        centroid_matrix = [[] for i in range(x)]\n",
    "        for i, loc in enumerate(index_map):\n",
    "            centroid_matrix[loc[0]].append(new_pesos[i])\n",
    "        #print(centroid_matrix)\n",
    "                \n",
    "                \n",
    "    "
   ]
  },
  {
   "cell_type": "code",
   "execution_count": 638,
   "metadata": {},
   "outputs": [],
   "source": [
    "datos = [[2, 3, 1, 1, 3, 3, 3, 3], \n",
    "         [3, 2, 1, 0, 3, 3, 3, 3], \n",
    "         [2, 3, 1, 1, 2, 3, 3, 3],\n",
    "         [2, 3, 1, 1, 2, 2, 3, 3],\n",
    "         [2, 3, 1, 1, 1, 2, 3, 3],\n",
    "         [1, 3, 1, 1, 2, 2, 3, 3], \n",
    "         [2, 1, 0, 0, 2, 2, 3, 3],\n",
    "         [2, 1, 0, 0, 3, 2, 3, 3], \n",
    "         [1, 1, 0, 0, 2, 1, 3, 3], \n",
    "         [1, 1, 0, 0, 2, 1, 3, 3], \n",
    "         [1, 1, 0, 0, 1, 1, 3, 3],\n",
    "         [1, 1, 0, 0, 0, 0, 3, 3], \n",
    "         [1, 1, 0, 0, 1, 1, 3, 3], \n",
    "         [3, 3, 1, 1, 4, 4, 2, 3], \n",
    "         [3, 3, 1, 1, 4, 4, 2, 3], \n",
    "         [3, 3, 1, 1, 4, 4, 3, 2], \n",
    "         [3, 3, 1, 1, 4, 4, 1, 2], \n",
    "         [3, 3, 1, 1, 3, 3, 1, 2], \n",
    "         [3, 3, 1, 1, 4, 4, 1, 2], \n",
    "         [3, 3, 1, 1, 3, 3, 1, 2], \n",
    "         [3, 3, 1, 1, 4, 3, 1, 2], \n",
    "         [3, 2, 1, 1, 3, 3, 1, 2], \n",
    "         [3, 3, 1, 1, 3, 2, 1, 1], \n",
    "         [3, 3, 1, 1, 3, 2, 1, 1], \n",
    "         [3, 2, 1, 1, 3, 4, 1, 1], \n",
    "         [3, 2, 1, 1, 3, 4, 1, 1], \n",
    "         [3, 2, 1, 1, 3, 3, 2, 2], \n",
    "         [2, 1, 1, 1, 4, 4, 1, 1], \n",
    "         [0, 4, 1, 0, 3, 3, 3, 3], \n",
    "         [0, 4, 1, 0, 3, 3, 3, 3], \n",
    "         [0, 4, 0, 0, 3, 3, 3, 3], \n",
    "         [0, 4, 0, 0, 3, 3, 3, 3]]"
   ]
  },
  {
   "cell_type": "code",
   "execution_count": 640,
   "metadata": {},
   "outputs": [
    {
     "name": "stdout",
     "output_type": "stream",
     "text": [
      "[2 2]\n"
     ]
    },
    {
     "ename": "IndexError",
     "evalue": "index 2 is out of bounds for axis 0 with size 2",
     "output_type": "error",
     "traceback": [
      "\u001b[1;31m---------------------------------------------------------------------------\u001b[0m",
      "\u001b[1;31mIndexError\u001b[0m                                Traceback (most recent call last)",
      "\u001b[1;32m<ipython-input-640-a16d5f4c791d>\u001b[0m in \u001b[0;36m<module>\u001b[1;34m\u001b[0m\n\u001b[0;32m      1\u001b[0m \u001b[0msom\u001b[0m \u001b[1;33m=\u001b[0m \u001b[0mSOM\u001b[0m\u001b[1;33m(\u001b[0m\u001b[1;36m3\u001b[0m\u001b[1;33m,\u001b[0m \u001b[1;36m3\u001b[0m\u001b[1;33m,\u001b[0m\u001b[1;36m8\u001b[0m\u001b[1;33m,\u001b[0m \u001b[1;36m0.5\u001b[0m\u001b[1;33m,\u001b[0m  \u001b[1;36m1.0\u001b[0m\u001b[1;33m,\u001b[0m \u001b[1;36m1\u001b[0m\u001b[1;33m)\u001b[0m\u001b[1;33m\u001b[0m\u001b[1;33m\u001b[0m\u001b[0m\n\u001b[1;32m----> 2\u001b[1;33m \u001b[0msom\u001b[0m\u001b[1;33m.\u001b[0m\u001b[0mentrenar\u001b[0m\u001b[1;33m(\u001b[0m\u001b[0mdatos\u001b[0m\u001b[1;33m)\u001b[0m\u001b[1;33m\u001b[0m\u001b[1;33m\u001b[0m\u001b[0m\n\u001b[0m",
      "\u001b[1;32m<ipython-input-637-a1d5915cdd14>\u001b[0m in \u001b[0;36mentrenar\u001b[1;34m(self, datos)\u001b[0m\n\u001b[0;32m     32\u001b[0m                 \u001b[0mbmu\u001b[0m \u001b[1;33m=\u001b[0m \u001b[0mnp\u001b[0m\u001b[1;33m.\u001b[0m\u001b[0margmin\u001b[0m\u001b[1;33m(\u001b[0m\u001b[0mraiz_distancias\u001b[0m\u001b[1;33m,\u001b[0m \u001b[1;36m0\u001b[0m\u001b[1;33m)\u001b[0m\u001b[1;33m\u001b[0m\u001b[1;33m\u001b[0m\u001b[0m\n\u001b[0;32m     33\u001b[0m                 \u001b[1;31m#print(bmu)\u001b[0m\u001b[1;33m\u001b[0m\u001b[1;33m\u001b[0m\u001b[1;33m\u001b[0m\u001b[0m\n\u001b[1;32m---> 34\u001b[1;33m                 \u001b[0mbmu_loc\u001b[0m\u001b[1;33m=\u001b[0m\u001b[0mnp\u001b[0m\u001b[1;33m.\u001b[0m\u001b[0mreshape\u001b[0m\u001b[1;33m(\u001b[0m\u001b[0mindex_map\u001b[0m\u001b[1;33m[\u001b[0m\u001b[0mbmu\u001b[0m\u001b[1;33m]\u001b[0m\u001b[1;33m,\u001b[0m\u001b[1;36m2\u001b[0m\u001b[1;33m)\u001b[0m\u001b[1;33m\u001b[0m\u001b[1;33m\u001b[0m\u001b[0m\n\u001b[0m\u001b[0;32m     35\u001b[0m                 \u001b[1;31m#print(bmu_loc)\u001b[0m\u001b[1;33m\u001b[0m\u001b[1;33m\u001b[0m\u001b[1;33m\u001b[0m\u001b[0m\n\u001b[0;32m     36\u001b[0m                 \u001b[0mdecay_function\u001b[0m \u001b[1;33m=\u001b[0m \u001b[0mnp\u001b[0m\u001b[1;33m.\u001b[0m\u001b[0msubtract\u001b[0m\u001b[1;33m(\u001b[0m\u001b[1;36m1.0\u001b[0m\u001b[1;33m,\u001b[0m \u001b[0mnp\u001b[0m\u001b[1;33m.\u001b[0m\u001b[0mdivide\u001b[0m\u001b[1;33m(\u001b[0m\u001b[0mepoca_actual\u001b[0m\u001b[1;33m,\u001b[0m \u001b[0mself\u001b[0m\u001b[1;33m.\u001b[0m\u001b[0m_epocas\u001b[0m\u001b[1;33m)\u001b[0m\u001b[1;33m)\u001b[0m\u001b[1;33m\u001b[0m\u001b[1;33m\u001b[0m\u001b[0m\n",
      "\u001b[1;31mIndexError\u001b[0m: index 2 is out of bounds for axis 0 with size 2"
     ]
    }
   ],
   "source": [
    "som = SOM(3, 3,8, 0.5,  1.0, 1)\n",
    "som.entrenar(datos)"
   ]
  },
  {
   "cell_type": "markdown",
   "metadata": {},
   "source": [
    "###    inicializando los pesos"
   ]
  },
  {
   "cell_type": "code",
   "execution_count": 641,
   "metadata": {
    "scrolled": true
   },
   "outputs": [
    {
     "name": "stdout",
     "output_type": "stream",
     "text": [
      "[[0.612578   0.9787935  0.2935962  0.87775127 0.11243572 0.66795377\n",
      "  0.09885203 0.56814859]\n",
      " [0.5844707  0.35573017 0.98999579 0.38113745 0.85929435 0.59659464\n",
      "  0.18528063 0.63027487]\n",
      " [0.20829941 0.23794894 0.25268309 0.27589574 0.57508473 0.32795594\n",
      "  0.12346985 0.34934343]\n",
      " [0.45299306 0.43791751 0.01828247 0.51825534 0.50266042 0.84720499\n",
      "  0.65406402 0.8199012 ]]\n",
      "[[0 0]\n",
      " [0 1]\n",
      " [1 0]\n",
      " [1 1]]\n",
      "[[2 3 1 1 3 3 3 3]\n",
      " [2 3 1 1 3 3 3 3]\n",
      " [2 3 1 1 3 3 3 3]\n",
      " [2 3 1 1 3 3 3 3]]\n",
      "[1 0]\n"
     ]
    }
   ],
   "source": [
    "x=2\n",
    "y=2\n",
    "v_entrada = [2, 3, 1, 1, 3, 3, 3, 3]\n",
    "i_aprendizaje = 0.5\n",
    "epoca_actual = 15\n",
    "epocas = 100\n",
    "radio_actual = 0.5\n",
    "radio = 1\n",
    "v_dim=8\n",
    "#-------\n",
    "m_pesos = np.random.random((x*y,v_dim))\n",
    "print (m_pesos)\n",
    "#creando el mapa de indices \n",
    "index_map =np.array(list(_iterador(x, y)))\n",
    "def _iterador(x,y):\n",
    "        for i in range(x):\n",
    "            for j in range(y):\n",
    "                yield np.array([i, j])\n",
    "\n",
    "print (index_map)\n",
    "\n",
    "#matriz de entrada\n",
    "m_entrada=np.stack([v_entrada for i in range(x*y)])\n",
    "print (m_entrada)\n",
    "bmu_loc=np.reshape(index_map[bmu],2)\n",
    "print(bmu_loc)\n",
    "\n"
   ]
  },
  {
   "cell_type": "markdown",
   "metadata": {},
   "source": [
    "### Calcular distancias"
   ]
  },
  {
   "cell_type": "code",
   "execution_count": 313,
   "metadata": {},
   "outputs": [
    {
     "name": "stdout",
     "output_type": "stream",
     "text": [
      "[37.68967162 31.54540132 30.83053993 36.33900193 33.38790428 36.41565483\n",
      " 30.93068351 31.5311554  31.81003094]\n"
     ]
    }
   ],
   "source": [
    "raiz_distancias=np.sum(np.power(np.subtract(m_pesos, m_entrada),2),1)\n",
    "print(raiz_distancias)\n"
   ]
  },
  {
   "cell_type": "markdown",
   "metadata": {},
   "source": [
    "###  indice de la neurona ganadora"
   ]
  },
  {
   "cell_type": "code",
   "execution_count": 314,
   "metadata": {},
   "outputs": [
    {
     "name": "stdout",
     "output_type": "stream",
     "text": [
      "[0 2]\n"
     ]
    }
   ],
   "source": [
    "bmu = np.argmin(raiz_distancias, 0)\n",
    "#print (bmu)\n",
    "#mask = np.pad(np.reshape(bmu, 1), np.array([[0, 1]]),'constant')\n",
    "bmu_loc=np.reshape(index_map[bmu],2)\n",
    "print(bmu_loc)"
   ]
  },
  {
   "cell_type": "markdown",
   "metadata": {},
   "source": [
    "###  Calculate learning rate and radius"
   ]
  },
  {
   "cell_type": "code",
   "execution_count": 315,
   "metadata": {},
   "outputs": [
    {
     "name": "stdout",
     "output_type": "stream",
     "text": [
      "0.425\n"
     ]
    }
   ],
   "source": [
    "\n",
    "decay_function = np.subtract(1.0, np.divide(epoca_actual, epocas))\n",
    "#print(decay_function)\n",
    "aprendizaje_actual = np.multiply(i_aprendizaje, decay_function)\n",
    "print(aprendizaje_actual)\n",
    "radio_actual = np.multiply(radio, decay_function)"
   ]
  },
  {
   "cell_type": "markdown",
   "metadata": {},
   "source": [
    "###   Adaptar la velocidad de aprendizaje a cada neurona según la posición."
   ]
  },
  {
   "cell_type": "code",
   "execution_count": 316,
   "metadata": {},
   "outputs": [
    {
     "name": "stdout",
     "output_type": "stream",
     "text": [
      "[[0 2]\n",
      " [0 2]\n",
      " [0 2]\n",
      " [0 2]\n",
      " [0 2]\n",
      " [0 2]\n",
      " [0 2]\n",
      " [0 2]\n",
      " [0 2]]\n"
     ]
    }
   ],
   "source": [
    "bmu_matriz = np.stack([bmu_loc for i in range(x*y)])\n",
    "print(bmu_matriz)"
   ]
  },
  {
   "cell_type": "markdown",
   "metadata": {},
   "source": [
    "### distancia de de la neurona ganadora hacia  la vecindad"
   ]
  },
  {
   "cell_type": "code",
   "execution_count": 317,
   "metadata": {},
   "outputs": [
    {
     "name": "stdout",
     "output_type": "stream",
     "text": [
      "[4 1 0 5 2 1 8 5 4]\n",
      "[1.8315639e-02 3.6787945e-01 1.0000000e+00 6.7379470e-03 1.3533528e-01\n",
      " 3.6787945e-01 3.3546262e-04 6.7379470e-03 1.8315639e-02]\n"
     ]
    }
   ],
   "source": [
    "bmu_distance = np.sum(np.power(np.subtract(index_map, bmu_matriz), 2), 1)\n",
    "print(bmu_distance)\n",
    "\n",
    "func_vecindad =np.exp(np.negative(np.divide(np.array(bmu_distance, dtype= np.float32), np.array(np.power(radio,2),dtype = np.float32))))\n",
    "print(func_vecindad)\n"
   ]
  },
  {
   "cell_type": "markdown",
   "metadata": {},
   "source": [
    "### Matriz de aprendizaje"
   ]
  },
  {
   "cell_type": "code",
   "execution_count": 318,
   "metadata": {},
   "outputs": [
    {
     "name": "stdout",
     "output_type": "stream",
     "text": [
      "[7.7841468e-03 1.5634876e-01 4.2500001e-01 2.8636276e-03 5.7517495e-02\n",
      " 1.5634876e-01 1.4257162e-04 2.8636276e-03 7.7841468e-03]\n"
     ]
    }
   ],
   "source": [
    "matriz_aprendizaje = np.multiply(aprendizaje_actual, func_vecindad)\n",
    "print (matriz_aprendizaje)\n",
    " "
   ]
  },
  {
   "cell_type": "markdown",
   "metadata": {},
   "source": [
    "### Actualizacion de pesos"
   ]
  },
  {
   "cell_type": "code",
   "execution_count": 319,
   "metadata": {},
   "outputs": [
    {
     "name": "stdout",
     "output_type": "stream",
     "text": [
      "[[0.15634876 0.15634876 0.15634876 0.15634876 0.15634876 0.15634876\n",
      "  0.15634876 0.15634876]\n",
      " [0.15634876 0.15634876 0.15634876 0.15634876 0.15634876 0.15634876\n",
      "  0.15634876 0.15634876]\n",
      " [0.15634876 0.15634876 0.15634876 0.15634876 0.15634876 0.15634876\n",
      "  0.15634876 0.15634876]\n",
      " [0.15634876 0.15634876 0.15634876 0.15634876 0.15634876 0.15634876\n",
      "  0.15634876 0.15634876]\n",
      " [0.15634876 0.15634876 0.15634876 0.15634876 0.15634876 0.15634876\n",
      "  0.15634876 0.15634876]\n",
      " [0.15634876 0.15634876 0.15634876 0.15634876 0.15634876 0.15634876\n",
      "  0.15634876 0.15634876]\n",
      " [0.15634876 0.15634876 0.15634876 0.15634876 0.15634876 0.15634876\n",
      "  0.15634876 0.15634876]\n",
      " [0.15634876 0.15634876 0.15634876 0.15634876 0.15634876 0.15634876\n",
      "  0.15634876 0.15634876]\n",
      " [0.15634876 0.15634876 0.15634876 0.15634876 0.15634876 0.15634876\n",
      "  0.15634876 0.15634876]]\n"
     ]
    }
   ],
   "source": [
    "multiplicador=np.stack([np.tile(matriz_aprendizaje[j],v_dim)for i in range(x*y)])\n",
    "print (caf)"
   ]
  },
  {
   "cell_type": "code",
   "execution_count": 320,
   "metadata": {},
   "outputs": [
    {
     "name": "stdout",
     "output_type": "stream",
     "text": [
      "[[0.58128701 1.26129967 0.28964028 0.16167366 1.1715902  1.01432782\n",
      "  1.17789978 0.98993112]\n",
      " [0.62806672 1.0182609  0.36021911 0.00181658 1.01620144 0.9627069\n",
      "  0.94471795 1.13350884]\n",
      " [0.653946   0.85298071 0.02897922 0.36217024 1.02949917 1.06841181\n",
      "  1.11927795 0.90960573]\n",
      " [0.55148456 1.10487365 0.19053657 0.0661524  0.90772687 1.03856295\n",
      "  1.26182536 1.22612681]\n",
      " [0.55250738 1.10442406 0.34343276 0.26956562 1.20793321 1.16337254\n",
      "  0.87001851 0.86347638]\n",
      " [0.49103494 0.97914605 0.10805413 0.31223351 1.20771474 1.11125361\n",
      "  1.03850917 1.22335992]\n",
      " [0.51693248 1.17671697 0.02824938 0.30979361 1.06556762 1.07062389\n",
      "  0.87791836 0.8864493 ]\n",
      " [0.51748137 0.87852457 0.41362928 0.11006873 1.26666853 1.04762504\n",
      "  0.97658027 0.9037932 ]\n",
      " [0.4377897  1.20595527 0.32089552 0.08195639 0.93804263 1.02444587\n",
      "  1.10434072 0.91707506]]\n"
     ]
    }
   ],
   "source": [
    "delta = np.multiply(multiplicador,np.subtract(np.stack([v_entrada for i in range(x*y)]), m_pesos))   \n",
    "print (delta)"
   ]
  },
  {
   "cell_type": "code",
   "execution_count": 325,
   "metadata": {},
   "outputs": [
    {
     "name": "stdout",
     "output_type": "stream",
     "text": [
      "[[1.79483992 2.5548355  0.89777404 0.94293872 2.58649766 2.64200201\n",
      "  2.58427075 2.65061261]\n",
      " [1.77832943 2.64061387 0.87286387 0.99935885 2.64134073 2.66022116\n",
      "  2.6665702  2.59993813]\n",
      " [1.76919557 2.69894804 0.98977204 0.87217523 2.63664742 2.62291355\n",
      "  2.6049608  2.67896274]\n",
      " [1.80535843 2.61004467 0.93275181 0.9766521  2.67962587 2.63344844\n",
      "  2.55464996 2.56724944]\n",
      " [1.80499743 2.61020334 0.87878846 0.90485921 2.57367071 2.58939801\n",
      "  2.6929347  2.69524369]\n",
      " [1.82669358 2.65441911 0.96186326 0.88979996 2.57374782 2.60779292\n",
      "  2.63346742 2.56822599]\n",
      " [1.81755328 2.5846882  0.99002963 0.8906611  2.62391738 2.62213281\n",
      "  2.69014652 2.6871356 ]\n",
      " [1.81735955 2.68993256 0.85401322 0.96115222 2.5529406  2.63025005\n",
      "  2.65532467 2.68101422]\n",
      " [1.84548602 2.57436881 0.88674278 0.97107422 2.66892619 2.63843094\n",
      "  2.61023276 2.67632651]]\n",
      "---------------------------------------------------\n",
      "[[1.79483992 2.5548355  0.89777404 0.94293872 2.58649766 2.64200201\n",
      "  2.58427075 2.65061261]\n",
      " [1.77832943 2.64061387 0.87286387 0.99935885 2.64134073 2.66022116\n",
      "  2.6665702  2.59993813]\n",
      " [1.76919557 2.69894804 0.98977204 0.87217523 2.63664742 2.62291355\n",
      "  2.6049608  2.67896274]\n",
      " [1.80535843 2.61004467 0.93275181 0.9766521  2.67962587 2.63344844\n",
      "  2.55464996 2.56724944]\n",
      " [1.80499743 2.61020334 0.87878846 0.90485921 2.57367071 2.58939801\n",
      "  2.6929347  2.69524369]\n",
      " [1.82669358 2.65441911 0.96186326 0.88979996 2.57374782 2.60779292\n",
      "  2.63346742 2.56822599]\n",
      " [1.81755328 2.5846882  0.99002963 0.8906611  2.62391738 2.62213281\n",
      "  2.69014652 2.6871356 ]\n",
      " [1.81735955 2.68993256 0.85401322 0.96115222 2.5529406  2.63025005\n",
      "  2.65532467 2.68101422]\n",
      " [1.84548602 2.57436881 0.88674278 0.97107422 2.66892619 2.63843094\n",
      "  2.61023276 2.67632651]]\n"
     ]
    }
   ],
   "source": [
    "new_pesos = np.add(m_pesos, delta)\n",
    "print(new_pesos)\n",
    "print(\"---------------------------------------------------\")\n",
    "m_pesos= new_pesos\n",
    "print(m_pesos)"
   ]
  },
  {
   "cell_type": "code",
   "execution_count": 322,
   "metadata": {},
   "outputs": [
    {
     "name": "stdout",
     "output_type": "stream",
     "text": [
      "[[], [], []]\n",
      "[[array([1.21355291, 1.29353583, 0.60813375, 0.78126506, 1.41490746,\n",
      "       1.6276742 , 1.40637097, 1.66068149])], [], []]\n",
      "[[array([1.21355291, 1.29353583, 0.60813375, 0.78126506, 1.41490746,\n",
      "       1.6276742 , 1.40637097, 1.66068149]), array([1.15026271, 1.62235297, 0.51264476, 0.99754227, 1.62513929,\n",
      "       1.69751426, 1.72185224, 1.46642929])], [], []]\n",
      "[[array([1.21355291, 1.29353583, 0.60813375, 0.78126506, 1.41490746,\n",
      "       1.6276742 , 1.40637097, 1.66068149]), array([1.15026271, 1.62235297, 0.51264476, 0.99754227, 1.62513929,\n",
      "       1.69751426, 1.72185224, 1.46642929]), array([1.11524958, 1.84596733, 0.96079282, 0.51000499, 1.60714825,\n",
      "       1.55450174, 1.48568285, 1.76935701])], [], []]\n",
      "[[array([1.21355291, 1.29353583, 0.60813375, 0.78126506, 1.41490746,\n",
      "       1.6276742 , 1.40637097, 1.66068149]), array([1.15026271, 1.62235297, 0.51264476, 0.99754227, 1.62513929,\n",
      "       1.69751426, 1.72185224, 1.46642929]), array([1.11524958, 1.84596733, 0.96079282, 0.51000499, 1.60714825,\n",
      "       1.55450174, 1.48568285, 1.76935701])], [array([1.25387387, 1.50517102, 0.74221525, 0.91049969, 1.771899  ,\n",
      "       1.59488549, 1.2928246 , 1.34112263])], []]\n",
      "[[array([1.21355291, 1.29353583, 0.60813375, 0.78126506, 1.41490746,\n",
      "       1.6276742 , 1.40637097, 1.66068149]), array([1.15026271, 1.62235297, 0.51264476, 0.99754227, 1.62513929,\n",
      "       1.69751426, 1.72185224, 1.46642929]), array([1.11524958, 1.84596733, 0.96079282, 0.51000499, 1.60714825,\n",
      "       1.55450174, 1.48568285, 1.76935701])], [array([1.25387387, 1.50517102, 0.74221525, 0.91049969, 1.771899  ,\n",
      "       1.59488549, 1.2928246 , 1.34112263]), array([1.25249005, 1.50577928, 0.5353557 , 0.63529359, 1.36573751,\n",
      "       1.42602547, 1.8229162 , 1.83176731])], []]\n",
      "[[array([1.21355291, 1.29353583, 0.60813375, 0.78126506, 1.41490746,\n",
      "       1.6276742 , 1.40637097, 1.66068149]), array([1.15026271, 1.62235297, 0.51264476, 0.99754227, 1.62513929,\n",
      "       1.69751426, 1.72185224, 1.46642929]), array([1.11524958, 1.84596733, 0.96079282, 0.51000499, 1.60714825,\n",
      "       1.55450174, 1.48568285, 1.76935701])], [array([1.25387387, 1.50517102, 0.74221525, 0.91049969, 1.771899  ,\n",
      "       1.59488549, 1.2928246 , 1.34112263]), array([1.25249005, 1.50577928, 0.5353557 , 0.63529359, 1.36573751,\n",
      "       1.42602547, 1.8229162 , 1.83176731]), array([1.33565864, 1.67527305, 0.85380913, 0.57756645, 1.36603308,\n",
      "       1.49653931, 1.59495825, 1.34486607])], []]\n",
      "[[array([1.21355291, 1.29353583, 0.60813375, 0.78126506, 1.41490746,\n",
      "       1.6276742 , 1.40637097, 1.66068149]), array([1.15026271, 1.62235297, 0.51264476, 0.99754227, 1.62513929,\n",
      "       1.69751426, 1.72185224, 1.46642929]), array([1.11524958, 1.84596733, 0.96079282, 0.51000499, 1.60714825,\n",
      "       1.55450174, 1.48568285, 1.76935701])], [array([1.25387387, 1.50517102, 0.74221525, 0.91049969, 1.771899  ,\n",
      "       1.59488549, 1.2928246 , 1.34112263]), array([1.25249005, 1.50577928, 0.5353557 , 0.63529359, 1.36573751,\n",
      "       1.42602547, 1.8229162 , 1.83176731]), array([1.33565864, 1.67527305, 0.85380913, 0.57756645, 1.36603308,\n",
      "       1.49653931, 1.59495825, 1.34486607])], [array([1.30062079, 1.40797123, 0.96178026, 0.58086749, 1.55834976,\n",
      "       1.55150892, 1.81222816, 1.8006863 ])]]\n",
      "[[array([1.21355291, 1.29353583, 0.60813375, 0.78126506, 1.41490746,\n",
      "       1.6276742 , 1.40637097, 1.66068149]), array([1.15026271, 1.62235297, 0.51264476, 0.99754227, 1.62513929,\n",
      "       1.69751426, 1.72185224, 1.46642929]), array([1.11524958, 1.84596733, 0.96079282, 0.51000499, 1.60714825,\n",
      "       1.55450174, 1.48568285, 1.76935701])], [array([1.25387387, 1.50517102, 0.74221525, 0.91049969, 1.771899  ,\n",
      "       1.59488549, 1.2928246 , 1.34112263]), array([1.25249005, 1.50577928, 0.5353557 , 0.63529359, 1.36573751,\n",
      "       1.42602547, 1.8229162 , 1.83176731]), array([1.33565864, 1.67527305, 0.85380913, 0.57756645, 1.36603308,\n",
      "       1.49653931, 1.59495825, 1.34486607])], [array([1.30062079, 1.40797123, 0.96178026, 0.58086749, 1.55834976,\n",
      "       1.55150892, 1.81222816, 1.8006863 ]), array([1.29987818, 1.811408  , 0.44038394, 0.85108349, 1.28627208,\n",
      "       1.58262501, 1.6787444 , 1.77722102])]]\n",
      "[[array([1.21355291, 1.29353583, 0.60813375, 0.78126506, 1.41490746,\n",
      "       1.6276742 , 1.40637097, 1.66068149]), array([1.15026271, 1.62235297, 0.51264476, 0.99754227, 1.62513929,\n",
      "       1.69751426, 1.72185224, 1.46642929]), array([1.11524958, 1.84596733, 0.96079282, 0.51000499, 1.60714825,\n",
      "       1.55450174, 1.48568285, 1.76935701])], [array([1.25387387, 1.50517102, 0.74221525, 0.91049969, 1.771899  ,\n",
      "       1.59488549, 1.2928246 , 1.34112263]), array([1.25249005, 1.50577928, 0.5353557 , 0.63529359, 1.36573751,\n",
      "       1.42602547, 1.8229162 , 1.83176731]), array([1.33565864, 1.67527305, 0.85380913, 0.57756645, 1.36603308,\n",
      "       1.49653931, 1.59495825, 1.34486607])], [array([1.30062079, 1.40797123, 0.96178026, 0.58086749, 1.55834976,\n",
      "       1.55150892, 1.81222816, 1.8006863 ]), array([1.29987818, 1.811408  , 0.44038394, 0.85108349, 1.28627208,\n",
      "       1.58262501, 1.6787444 , 1.77722102]), array([1.40769631, 1.36841353, 0.56584726, 0.88911783, 1.73088356,\n",
      "       1.61398507, 1.50589203, 1.75925144])]]\n"
     ]
    }
   ],
   "source": [
    "centroid_matrix = [[] for i in range(x)]\n",
    "#print(centroid_matrix)\n",
    "for i, loc in enumerate(index_map):\n",
    "            centroid_matrix[loc[0]].append(new_pesos[i])\n",
    "            #print(centroid_matrix)"
   ]
  },
  {
   "cell_type": "code",
   "execution_count": null,
   "metadata": {},
   "outputs": [],
   "source": []
  }
 ],
 "metadata": {
  "kernelspec": {
   "display_name": "Python 3",
   "language": "python",
   "name": "python3"
  },
  "language_info": {
   "codemirror_mode": {
    "name": "ipython",
    "version": 3
   },
   "file_extension": ".py",
   "mimetype": "text/x-python",
   "name": "python",
   "nbconvert_exporter": "python",
   "pygments_lexer": "ipython3",
   "version": "3.7.3"
  }
 },
 "nbformat": 4,
 "nbformat_minor": 2
}
